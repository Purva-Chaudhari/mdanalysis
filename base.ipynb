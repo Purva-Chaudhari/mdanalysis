{
  "nbformat": 4,
  "nbformat_minor": 0,
  "metadata": {
    "colab": {
      "name": "Untitled3.ipynb",
      "provenance": [],
      "collapsed_sections": [],
      "include_colab_link": true
    },
    "kernelspec": {
      "name": "python3",
      "display_name": "Python 3"
    }
  },
  "cells": [
    {
      "cell_type": "markdown",
      "metadata": {
        "id": "view-in-github",
        "colab_type": "text"
      },
      "source": [
        "<a href=\"https://colab.research.google.com/github/Purva-Chaudhari/mdanalysis/blob/master/base.ipynb\" target=\"_parent\"><img src=\"https://colab.research.google.com/assets/colab-badge.svg\" alt=\"Open In Colab\"/></a>"
      ]
    },
    {
      "cell_type": "code",
      "metadata": {
        "id": "VEUTUX5Bwml8",
        "colab_type": "code",
        "outputId": "0f9724a5-36bb-4873-b4b7-fa48a73b9524",
        "colab": {
          "base_uri": "https://localhost:8080/",
          "height": 140
        }
      },
      "source": [
        "!git clone https://github.com/Purva-Chaudhari/mdanalysis.git"
      ],
      "execution_count": 1,
      "outputs": [
        {
          "output_type": "stream",
          "text": [
            "Cloning into 'mdanalysis'...\n",
            "remote: Enumerating objects: 312, done.\u001b[K\n",
            "remote: Counting objects: 100% (312/312), done.\u001b[K\n",
            "remote: Compressing objects: 100% (215/215), done.\u001b[K\n",
            "remote: Total 78241 (delta 256), reused 137 (delta 92), pack-reused 77929\u001b[K\n",
            "Receiving objects: 100% (78241/78241), 234.06 MiB | 31.57 MiB/s, done.\n",
            "Resolving deltas: 100% (63746/63746), done.\n"
          ],
          "name": "stdout"
        }
      ]
    },
    {
      "cell_type": "code",
      "metadata": {
        "id": "lshShU7io-M-",
        "colab_type": "code",
        "colab": {
          "base_uri": "https://localhost:8080/",
          "height": 125
        },
        "outputId": "a0d4ada8-f144-45d3-8c88-f6c06dad8060"
      },
      "source": [
        "from google.colab import drive\n",
        "drive.mount('/content/drive')"
      ],
      "execution_count": 2,
      "outputs": [
        {
          "output_type": "stream",
          "text": [
            "Go to this URL in a browser: https://accounts.google.com/o/oauth2/auth?client_id=947318989803-6bn6qk8qdgf4n4g3pfee6491hc0brc4i.apps.googleusercontent.com&redirect_uri=urn%3aietf%3awg%3aoauth%3a2.0%3aoob&response_type=code&scope=email%20https%3a%2f%2fwww.googleapis.com%2fauth%2fdocs.test%20https%3a%2f%2fwww.googleapis.com%2fauth%2fdrive%20https%3a%2f%2fwww.googleapis.com%2fauth%2fdrive.photos.readonly%20https%3a%2f%2fwww.googleapis.com%2fauth%2fpeopleapi.readonly\n",
            "\n",
            "Enter your authorization code:\n",
            "··········\n",
            "Mounted at /content/drive\n"
          ],
          "name": "stdout"
        }
      ]
    },
    {
      "cell_type": "code",
      "metadata": {
        "id": "NzBZ_qnWwryL",
        "colab_type": "code",
        "outputId": "1dc38ea8-b341-4d34-be18-c7a2c92e3277",
        "colab": {
          "base_uri": "https://localhost:8080/",
          "height": 34
        }
      },
      "source": [
        "cd mdanalysis/"
      ],
      "execution_count": 3,
      "outputs": [
        {
          "output_type": "stream",
          "text": [
            "/content/mdanalysis\n"
          ],
          "name": "stdout"
        }
      ]
    },
    {
      "cell_type": "code",
      "metadata": {
        "id": "OgrRTmSwxMdA",
        "colab_type": "code",
        "outputId": "d4844d46-98ea-45a2-a978-3d198f08a7f5",
        "colab": {
          "base_uri": "https://localhost:8080/",
          "height": 688
        }
      },
      "source": [
        "!pip install --upgrade MDAnalysis\n"
      ],
      "execution_count": 4,
      "outputs": [
        {
          "output_type": "stream",
          "text": [
            "Collecting MDAnalysis\n",
            "\u001b[?25l  Downloading https://files.pythonhosted.org/packages/83/4b/97c2df212f1eee47144648aa0e0da1a9022eab74d3fc1fbaf2767734de3d/MDAnalysis-0.20.1.tar.gz (3.7MB)\n",
            "\u001b[K     |████████████████████████████████| 3.7MB 2.8MB/s \n",
            "\u001b[?25hRequirement already satisfied, skipping upgrade: numpy>=1.13.3 in /usr/local/lib/python3.6/dist-packages (from MDAnalysis) (1.17.5)\n",
            "Collecting biopython>=1.71\n",
            "\u001b[?25l  Downloading https://files.pythonhosted.org/packages/83/3d/e0c8a993dbea1136be90c31345aefc5babdd5046cd52f81c18fc3fdad865/biopython-1.76-cp36-cp36m-manylinux1_x86_64.whl (2.3MB)\n",
            "\u001b[K     |████████████████████████████████| 2.3MB 30.3MB/s \n",
            "\u001b[?25hRequirement already satisfied, skipping upgrade: networkx>=1.0 in /usr/local/lib/python3.6/dist-packages (from MDAnalysis) (2.4)\n",
            "Collecting GridDataFormats>=0.4.0\n",
            "\u001b[?25l  Downloading https://files.pythonhosted.org/packages/9b/7e/796ea78dc3a29c119b1171f6c692cc5fb1bb2ece029429bf39fce27f4cd0/GridDataFormats-0.5.0-py2.py3-none-any.whl (2.0MB)\n",
            "\u001b[K     |████████████████████████████████| 2.0MB 55.6MB/s \n",
            "\u001b[?25hRequirement already satisfied, skipping upgrade: six>=1.4.0 in /usr/local/lib/python3.6/dist-packages (from MDAnalysis) (1.12.0)\n",
            "Collecting mmtf-python>=1.0.0\n",
            "  Downloading https://files.pythonhosted.org/packages/af/d2/aabefd607ff89e35704574205b382a351f531885cc98bfd91baaf192a9fe/mmtf_python-1.1.2-py2.py3-none-any.whl\n",
            "Requirement already satisfied, skipping upgrade: joblib in /usr/local/lib/python3.6/dist-packages (from MDAnalysis) (0.14.1)\n",
            "Requirement already satisfied, skipping upgrade: scipy>=1.0.0 in /usr/local/lib/python3.6/dist-packages (from MDAnalysis) (1.4.1)\n",
            "Requirement already satisfied, skipping upgrade: matplotlib>=1.5.1 in /usr/local/lib/python3.6/dist-packages (from MDAnalysis) (3.1.3)\n",
            "Collecting mock\n",
            "  Downloading https://files.pythonhosted.org/packages/30/6a/9bde648117ec7087c89a45de0a8b25aba21d54d3defd08cb24eacded875f/mock-4.0.1-py3-none-any.whl\n",
            "Collecting gsd>=1.4.0\n",
            "\u001b[?25l  Downloading https://files.pythonhosted.org/packages/a6/af/49b277bf575293cf6cdb813d5b266930a25496789166b3b62b96caea24a4/gsd-2.1.0-cp36-cp36m-manylinux1_x86_64.whl (308kB)\n",
            "\u001b[K     |████████████████████████████████| 317kB 58.3MB/s \n",
            "\u001b[?25hRequirement already satisfied, skipping upgrade: decorator>=4.3.0 in /usr/local/lib/python3.6/dist-packages (from networkx>=1.0->MDAnalysis) (4.4.1)\n",
            "Requirement already satisfied, skipping upgrade: msgpack>=0.5.6 in /usr/local/lib/python3.6/dist-packages (from mmtf-python>=1.0.0->MDAnalysis) (0.5.6)\n",
            "Requirement already satisfied, skipping upgrade: kiwisolver>=1.0.1 in /usr/local/lib/python3.6/dist-packages (from matplotlib>=1.5.1->MDAnalysis) (1.1.0)\n",
            "Requirement already satisfied, skipping upgrade: pyparsing!=2.0.4,!=2.1.2,!=2.1.6,>=2.0.1 in /usr/local/lib/python3.6/dist-packages (from matplotlib>=1.5.1->MDAnalysis) (2.4.6)\n",
            "Requirement already satisfied, skipping upgrade: python-dateutil>=2.1 in /usr/local/lib/python3.6/dist-packages (from matplotlib>=1.5.1->MDAnalysis) (2.6.1)\n",
            "Requirement already satisfied, skipping upgrade: cycler>=0.10 in /usr/local/lib/python3.6/dist-packages (from matplotlib>=1.5.1->MDAnalysis) (0.10.0)\n",
            "Requirement already satisfied, skipping upgrade: cython in /usr/local/lib/python3.6/dist-packages (from gsd>=1.4.0->MDAnalysis) (0.29.15)\n",
            "Requirement already satisfied, skipping upgrade: setuptools in /usr/local/lib/python3.6/dist-packages (from kiwisolver>=1.0.1->matplotlib>=1.5.1->MDAnalysis) (45.2.0)\n",
            "Building wheels for collected packages: MDAnalysis\n",
            "  Building wheel for MDAnalysis (setup.py) ... \u001b[?25l\u001b[?25hdone\n",
            "  Created wheel for MDAnalysis: filename=MDAnalysis-0.20.1-cp36-cp36m-linux_x86_64.whl size=4577674 sha256=dc2616ef59eb6e137559f42267d4fed8d3222d7a0b5d698ce04deb2096a312f4\n",
            "  Stored in directory: /root/.cache/pip/wheels/30/8e/3b/fae2c19789bb9cd83fe34942dcbc1bafb26ea6433f1ab464ac\n",
            "Successfully built MDAnalysis\n",
            "Installing collected packages: biopython, GridDataFormats, mmtf-python, mock, gsd, MDAnalysis\n",
            "Successfully installed GridDataFormats-0.5.0 MDAnalysis-0.20.1 biopython-1.76 gsd-2.1.0 mmtf-python-1.1.2 mock-4.0.1\n"
          ],
          "name": "stdout"
        }
      ]
    },
    {
      "cell_type": "code",
      "metadata": {
        "id": "U3ul6FNk2Xjw",
        "colab_type": "code",
        "outputId": "bb499499-1e24-4d99-fd7d-258289ac912e",
        "colab": {
          "base_uri": "https://localhost:8080/",
          "height": 758
        }
      },
      "source": [
        "!pip install --upgrade MDAnalysisTests"
      ],
      "execution_count": 5,
      "outputs": [
        {
          "output_type": "stream",
          "text": [
            "Collecting MDAnalysisTests\n",
            "\u001b[?25l  Downloading https://files.pythonhosted.org/packages/f0/6e/ecdd42eaa63084886515f1a7f9da168cf0a5f085b40d331461ddeed893bd/MDAnalysisTests-0.20.1.tar.gz (47.6MB)\n",
            "\u001b[K     |████████████████████████████████| 47.6MB 92kB/s \n",
            "\u001b[?25hRequirement already satisfied, skipping upgrade: MDAnalysis==0.20.1 in /usr/local/lib/python3.6/dist-packages (from MDAnalysisTests) (0.20.1)\n",
            "Requirement already satisfied, skipping upgrade: pytest>=3.3.0 in /usr/local/lib/python3.6/dist-packages (from MDAnalysisTests) (3.6.4)\n",
            "Collecting hypothesis\n",
            "\u001b[?25l  Downloading https://files.pythonhosted.org/packages/51/19/0c2931f0ab4da3ac0720a36538515597090178731f74b2c8832a2032687a/hypothesis-5.6.0-py3-none-any.whl (288kB)\n",
            "\u001b[K     |████████████████████████████████| 296kB 58.5MB/s \n",
            "\u001b[?25hRequirement already satisfied, skipping upgrade: psutil>=4.0.2 in /usr/local/lib/python3.6/dist-packages (from MDAnalysisTests) (5.4.8)\n",
            "Requirement already satisfied, skipping upgrade: mock>=2.0.0 in /usr/local/lib/python3.6/dist-packages (from MDAnalysisTests) (4.0.1)\n",
            "Requirement already satisfied, skipping upgrade: matplotlib>=1.5.1 in /usr/local/lib/python3.6/dist-packages (from MDAnalysis==0.20.1->MDAnalysisTests) (3.1.3)\n",
            "Requirement already satisfied, skipping upgrade: gsd>=1.4.0 in /usr/local/lib/python3.6/dist-packages (from MDAnalysis==0.20.1->MDAnalysisTests) (2.1.0)\n",
            "Requirement already satisfied, skipping upgrade: numpy>=1.13.3 in /usr/local/lib/python3.6/dist-packages (from MDAnalysis==0.20.1->MDAnalysisTests) (1.17.5)\n",
            "Requirement already satisfied, skipping upgrade: biopython>=1.71 in /usr/local/lib/python3.6/dist-packages (from MDAnalysis==0.20.1->MDAnalysisTests) (1.76)\n",
            "Requirement already satisfied, skipping upgrade: scipy>=1.0.0 in /usr/local/lib/python3.6/dist-packages (from MDAnalysis==0.20.1->MDAnalysisTests) (1.4.1)\n",
            "Requirement already satisfied, skipping upgrade: joblib in /usr/local/lib/python3.6/dist-packages (from MDAnalysis==0.20.1->MDAnalysisTests) (0.14.1)\n",
            "Requirement already satisfied, skipping upgrade: networkx>=1.0 in /usr/local/lib/python3.6/dist-packages (from MDAnalysis==0.20.1->MDAnalysisTests) (2.4)\n",
            "Requirement already satisfied, skipping upgrade: GridDataFormats>=0.4.0 in /usr/local/lib/python3.6/dist-packages (from MDAnalysis==0.20.1->MDAnalysisTests) (0.5.0)\n",
            "Requirement already satisfied, skipping upgrade: mmtf-python>=1.0.0 in /usr/local/lib/python3.6/dist-packages (from MDAnalysis==0.20.1->MDAnalysisTests) (1.1.2)\n",
            "Requirement already satisfied, skipping upgrade: six>=1.4.0 in /usr/local/lib/python3.6/dist-packages (from MDAnalysis==0.20.1->MDAnalysisTests) (1.12.0)\n",
            "Requirement already satisfied, skipping upgrade: atomicwrites>=1.0 in /usr/local/lib/python3.6/dist-packages (from pytest>=3.3.0->MDAnalysisTests) (1.3.0)\n",
            "Requirement already satisfied, skipping upgrade: more-itertools>=4.0.0 in /usr/local/lib/python3.6/dist-packages (from pytest>=3.3.0->MDAnalysisTests) (8.2.0)\n",
            "Requirement already satisfied, skipping upgrade: setuptools in /usr/local/lib/python3.6/dist-packages (from pytest>=3.3.0->MDAnalysisTests) (45.2.0)\n",
            "Requirement already satisfied, skipping upgrade: pluggy<0.8,>=0.5 in /usr/local/lib/python3.6/dist-packages (from pytest>=3.3.0->MDAnalysisTests) (0.7.1)\n",
            "Requirement already satisfied, skipping upgrade: py>=1.5.0 in /usr/local/lib/python3.6/dist-packages (from pytest>=3.3.0->MDAnalysisTests) (1.8.1)\n",
            "Requirement already satisfied, skipping upgrade: attrs>=17.4.0 in /usr/local/lib/python3.6/dist-packages (from pytest>=3.3.0->MDAnalysisTests) (19.3.0)\n",
            "Requirement already satisfied, skipping upgrade: sortedcontainers<3.0.0,>=2.1.0 in /usr/local/lib/python3.6/dist-packages (from hypothesis->MDAnalysisTests) (2.1.0)\n",
            "Requirement already satisfied, skipping upgrade: pyparsing!=2.0.4,!=2.1.2,!=2.1.6,>=2.0.1 in /usr/local/lib/python3.6/dist-packages (from matplotlib>=1.5.1->MDAnalysis==0.20.1->MDAnalysisTests) (2.4.6)\n",
            "Requirement already satisfied, skipping upgrade: python-dateutil>=2.1 in /usr/local/lib/python3.6/dist-packages (from matplotlib>=1.5.1->MDAnalysis==0.20.1->MDAnalysisTests) (2.6.1)\n",
            "Requirement already satisfied, skipping upgrade: kiwisolver>=1.0.1 in /usr/local/lib/python3.6/dist-packages (from matplotlib>=1.5.1->MDAnalysis==0.20.1->MDAnalysisTests) (1.1.0)\n",
            "Requirement already satisfied, skipping upgrade: cycler>=0.10 in /usr/local/lib/python3.6/dist-packages (from matplotlib>=1.5.1->MDAnalysis==0.20.1->MDAnalysisTests) (0.10.0)\n",
            "Requirement already satisfied, skipping upgrade: cython in /usr/local/lib/python3.6/dist-packages (from gsd>=1.4.0->MDAnalysis==0.20.1->MDAnalysisTests) (0.29.15)\n",
            "Requirement already satisfied, skipping upgrade: decorator>=4.3.0 in /usr/local/lib/python3.6/dist-packages (from networkx>=1.0->MDAnalysis==0.20.1->MDAnalysisTests) (4.4.1)\n",
            "Requirement already satisfied, skipping upgrade: msgpack>=0.5.6 in /usr/local/lib/python3.6/dist-packages (from mmtf-python>=1.0.0->MDAnalysis==0.20.1->MDAnalysisTests) (0.5.6)\n",
            "Building wheels for collected packages: MDAnalysisTests\n",
            "  Building wheel for MDAnalysisTests (setup.py) ... \u001b[?25l\u001b[?25hdone\n",
            "  Created wheel for MDAnalysisTests: filename=MDAnalysisTests-0.20.1-py2.py3-none-any.whl size=47888370 sha256=5be86531a64fcd6e842b7bddeab787d812d84caf3d513b7bb3a7e14a1e4a14a9\n",
            "  Stored in directory: /root/.cache/pip/wheels/e6/91/bf/31b0f76a26bfcf5a3569b0f9822f3f0e2094790ff39d5b1f74\n",
            "Successfully built MDAnalysisTests\n",
            "Installing collected packages: hypothesis, MDAnalysisTests\n",
            "Successfully installed MDAnalysisTests-0.20.1 hypothesis-5.6.0\n"
          ],
          "name": "stdout"
        }
      ]
    },
    {
      "cell_type": "code",
      "metadata": {
        "id": "PzTiXVT92i5X",
        "colab_type": "code",
        "outputId": "6f8e1640-b7aa-4008-9599-997a384c0f38",
        "colab": {
          "base_uri": "https://localhost:8080/",
          "height": 52
        }
      },
      "source": [
        "import MDAnalysis as mda\n",
        "from MDAnalysis.tests.datafiles import PSF, DCD, GRO, XTC\n",
        "\n",
        "print(mda.Universe(PSF, DCD))\n",
        "print(mda.__version__)"
      ],
      "execution_count": 6,
      "outputs": [
        {
          "output_type": "stream",
          "text": [
            "<Universe with 3341 atoms>\n",
            "0.20.1\n"
          ],
          "name": "stdout"
        }
      ]
    },
    {
      "cell_type": "code",
      "metadata": {
        "id": "mZPd6HpFGgC0",
        "colab_type": "code",
        "outputId": "98ca4a9b-2b3e-4f24-e259-47bcd8d4c3a6",
        "colab": {
          "base_uri": "https://localhost:8080/",
          "height": 54
        }
      },
      "source": [
        "u2 = mda.Universe(GRO, XTC, XTC, all_coordinates=False, continuous=False)\n",
        "print([int(ts.time) for ts in u2.trajectory])"
      ],
      "execution_count": 7,
      "outputs": [
        {
          "output_type": "stream",
          "text": [
            "[0, 100, 200, 300, 400, 500, 600, 700, 800, 900, 0, 100, 200, 300, 400, 500, 600, 700, 800, 900]\n"
          ],
          "name": "stdout"
        }
      ]
    },
    {
      "cell_type": "code",
      "metadata": {
        "id": "-riE9Xm4Fauz",
        "colab_type": "code",
        "outputId": "dd848c13-691b-4953-d19c-6dbf14a9028f",
        "colab": {
          "base_uri": "https://localhost:8080/",
          "height": 90
        }
      },
      "source": [
        "import MDAnalysis as mda\n",
        "from MDAnalysis.tests.datafiles import PDB, GRO, XTC\n",
        "u1 = mda.Universe(GRO, XTC, XTC, all_coordinates=True)\n",
        "u1.trajectory"
      ],
      "execution_count": 8,
      "outputs": [
        {
          "output_type": "stream",
          "text": [
            "/usr/local/lib/python3.6/dist-packages/MDAnalysis/coordinates/base.py:837: UserWarning: Reader has no dt information, set to 1.0 ps\n",
            "  warnings.warn(\"Reader has no dt information, set to 1.0 ps\")\n"
          ],
          "name": "stderr"
        },
        {
          "output_type": "execute_result",
          "data": {
            "text/plain": [
              "<ChainReader containing adk_oplsaa.gro, adk_oplsaa.xtc, adk_oplsaa.xtc with 21 frames of 47681 atoms>"
            ]
          },
          "metadata": {
            "tags": []
          },
          "execution_count": 8
        }
      ]
    },
    {
      "cell_type": "code",
      "metadata": {
        "id": "HbwzCY4Ldxrl",
        "colab_type": "code",
        "colab": {
          "base_uri": "https://localhost:8080/",
          "height": 132
        },
        "outputId": "b8f9b0b8-1488-41e4-d6f0-843232208d63"
      },
      "source": [
        "from __future__ import absolute_import\n",
        "import warnings\n",
        "import six\n",
        "from six.moves import range, zip\n",
        "import inspect\n",
        "import logging\n",
        "import itertools\n",
        "import numpy as np\n",
        "from MDAnalysis import coordinates\n",
        "from MDAnalysis.core.groups import AtomGroup\n",
        "from MDAnalysis.lib.log import ProgressMeter\n",
        "\n",
        "logger = logging.getLogger(__name__)\n",
        "\n",
        "class AnalysisBase(object):\n",
        "    def __init__(self, trajectory, verbose=False, **kwargs):\n",
        "        self._trajectory = trajectory\n",
        "        self._verbose = verbose\n",
        "\n",
        "    def _setup_frames(self, trajectory, start=None, stop=None, step=None):\n",
        "        self._trajectory = trajectory\n",
        "        start, stop, step = trajectory.check_slice_indices(start, stop, step)\n",
        "        if start is not None:\n",
        "          self._start = start\n",
        "        elif stop is not None:\n",
        "          self._stop = stop\n",
        "        elif step is not None:\n",
        "          self._step = step\n",
        "        else:\n",
        "          warnings.warn(\"Deprecation occured\", DeprecationWarning)\n",
        "        self.n_frames = len(range(start, stop, step))\n",
        "        #print(\"n_frames = \",self.n_frames)\n",
        "        interval = int(self.n_frames // 100)\n",
        "        if interval == 0:\n",
        "            interval = 1\n",
        "\n",
        "        verbose = getattr(self, '_verbose', False)\n",
        "        print(\"verbose1 = \", verbose)\n",
        "        self._pm = ProgressMeter(self.n_frames if self.n_frames else 1,\n",
        "                                 interval=interval, verbose=verbose)\n",
        "        print(\"verbose2 = \", verbose)\n",
        "\n",
        "    def _single_frame(self):\n",
        "        raise NotImplementedError(\"Only implemented in child classes\")\n",
        "\n",
        "    def _prepare(self):\n",
        "        pass # pylint: disable=unnecessary-pass\n",
        "\n",
        "    def _conclude(self):\n",
        "        pass # pylint: disable=unnecessary-pass\n",
        "\n",
        "    def run(self, start=None, stop=None, step=None, verbose=None):     \n",
        "        logger.info(\"Choosing frames to analyze\")\n",
        "        # if verbose unchanged, use class default\n",
        "        verbose = getattr(self, '_verbose', False) if verbose is None else verbose\n",
        "        print(verbose)\n",
        "        print(\"self verbose \"self._verbose)\n",
        "        self._setup_frames(self._trajectory, start, stop, step)\n",
        "        logger.info(\"Starting preparation\")\n",
        "        self._prepare()\n",
        "        for i, ts in enumerate(\n",
        "                self._trajectory[self.start:self.stop:self.step]):\n",
        "            self._frame_index = i\n",
        "            self._ts = ts\n",
        "            # logger.info(\"--> Doing frame {} of {}\".format(i+1, self.n_frames))\n",
        "            self._single_frame()\n",
        "            self._pm.echo(self._frame_index)\n",
        "        logger.info(\"Finishing up\")\n",
        "        self._conclude()\n",
        "        return self\n",
        "\n",
        "class AnalysisFromFunction(AnalysisBase):    \n",
        "    def __init__(self, function, trajectory=None, *args, **kwargs):     \n",
        "        if (trajectory is not None) and (not isinstance(\n",
        "                trajectory, coordinates.base.ProtoReader)):\n",
        "            args = (trajectory,) + args\n",
        "            trajectory = None\n",
        "\n",
        "        if trajectory is None:\n",
        "            # all possible places to find trajectory\n",
        "            for arg in itertools.chain(args, six.itervalues(kwargs)):\n",
        "                if isinstance(arg, AtomGroup):\n",
        "                    trajectory = arg.universe.trajectory\n",
        "                    break\n",
        "\n",
        "        if trajectory is None:\n",
        "            raise ValueError(\"Couldn't find a trajectory\")\n",
        "\n",
        "        self.function = function\n",
        "        self.args = args\n",
        "\n",
        "        self.kwargs = kwargs\n",
        "\n",
        "        super(AnalysisFromFunction, self).__init__(trajectory)\n",
        "\n",
        "    def _prepare(self):\n",
        "        self.results = []\n",
        "\n",
        "    def _single_frame(self):\n",
        "        self.results.append(self.function(*self.args, **self.kwargs))\n",
        "\n",
        "    def _conclude(self):\n",
        "        self.results = np.asarray(self.results)\n",
        "\n",
        "\n",
        "def analysis_class(function):   \n",
        "    class WrapperClass(AnalysisFromFunction):\n",
        "        def __init__(self, trajectory=None, *args, **kwargs):\n",
        "            super(WrapperClass, self).__init__(function, trajectory,\n",
        "                                               *args, **kwargs)\n",
        "\n",
        "    return WrapperClass\n",
        "\n",
        "def _filter_baseanalysis_kwargs(function, kwargs):  \n",
        "    try:\n",
        "        # pylint: disable=deprecated-method\n",
        "        base_argspec = inspect.getfullargspec(AnalysisBase.__init__)\n",
        "    except AttributeError:\n",
        "        # pylint: disable=deprecated-method\n",
        "        base_argspec = inspect.getargspec(AnalysisBase.__init__)\n",
        "\n",
        "    n_base_defaults = len(base_argspec.defaults)\n",
        "    base_kwargs = {name: val\n",
        "                   for name, val in zip(base_argspec.args[-n_base_defaults:],\n",
        "                                        base_argspec.defaults)}\n",
        "\n",
        "    try:\n",
        "        # pylint: disable=deprecated-method\n",
        "        argspec = inspect.getfullargspec(function)\n",
        "    except AttributeError:\n",
        "        # pylint: disable=deprecated-method\n",
        "        argspec = inspect.getargspec(function)\n",
        "\n",
        "    for base_kw in six.iterkeys(base_kwargs):\n",
        "        if base_kw in argspec.args:\n",
        "            raise ValueError(\n",
        "                \"argument name '{}' clashes with AnalysisBase argument.\"\n",
        "                \"Now allowed are: {}\".format(base_kw, base_kwargs.keys()))\n",
        "\n",
        "    base_args = {}\n",
        "    for argname, default in six.iteritems(base_kwargs):\n",
        "        base_args[argname] = kwargs.pop(argname, default)\n",
        "\n",
        "    return base_args, kwargs"
      ],
      "execution_count": 11,
      "outputs": [
        {
          "output_type": "error",
          "ename": "SyntaxError",
          "evalue": "ignored",
          "traceback": [
            "\u001b[0;36m  File \u001b[0;32m\"<ipython-input-11-297365e45e72>\"\u001b[0;36m, line \u001b[0;32m57\u001b[0m\n\u001b[0;31m    print(\"self verbose \"self._verbose)\u001b[0m\n\u001b[0m                            ^\u001b[0m\n\u001b[0;31mSyntaxError\u001b[0m\u001b[0;31m:\u001b[0m invalid syntax\n"
          ]
        }
      ]
    },
    {
      "cell_type": "code",
      "metadata": {
        "id": "kUkmDaUFowEv",
        "colab_type": "code",
        "outputId": "2bc82f58-41c1-4c4c-c235-fcc6783ec314",
        "colab": {
          "base_uri": "https://localhost:8080/",
          "height": 273
        }
      },
      "source": [
        "obj = AnalysisBase(u2.trajectory)\n",
        "obj._setup_frames(u2.trajectory,None,None,None)\n",
        "#obj._setup_frames(u2.trajectory,0,10,2)\n",
        "print(obj.start)\n",
        "print(obj.stop)\n",
        "print(obj.step)\n",
        "obj.run(verbose = True)"
      ],
      "execution_count": 12,
      "outputs": [
        {
          "output_type": "stream",
          "text": [
            "verbose1 =  False\n",
            "verbose2 =  False\n"
          ],
          "name": "stdout"
        },
        {
          "output_type": "error",
          "ename": "AttributeError",
          "evalue": "ignored",
          "traceback": [
            "\u001b[0;31m---------------------------------------------------------------------------\u001b[0m",
            "\u001b[0;31mAttributeError\u001b[0m                            Traceback (most recent call last)",
            "\u001b[0;32m<ipython-input-12-23c7109d8e18>\u001b[0m in \u001b[0;36m<module>\u001b[0;34m()\u001b[0m\n\u001b[1;32m      2\u001b[0m \u001b[0mobj\u001b[0m\u001b[0;34m.\u001b[0m\u001b[0m_setup_frames\u001b[0m\u001b[0;34m(\u001b[0m\u001b[0mu2\u001b[0m\u001b[0;34m.\u001b[0m\u001b[0mtrajectory\u001b[0m\u001b[0;34m,\u001b[0m\u001b[0;32mNone\u001b[0m\u001b[0;34m,\u001b[0m\u001b[0;32mNone\u001b[0m\u001b[0;34m,\u001b[0m\u001b[0;32mNone\u001b[0m\u001b[0;34m)\u001b[0m\u001b[0;34m\u001b[0m\u001b[0;34m\u001b[0m\u001b[0m\n\u001b[1;32m      3\u001b[0m \u001b[0;31m#obj._setup_frames(u2.trajectory,0,10,2)\u001b[0m\u001b[0;34m\u001b[0m\u001b[0;34m\u001b[0m\u001b[0;34m\u001b[0m\u001b[0m\n\u001b[0;32m----> 4\u001b[0;31m \u001b[0mprint\u001b[0m\u001b[0;34m(\u001b[0m\u001b[0mobj\u001b[0m\u001b[0;34m.\u001b[0m\u001b[0mstart\u001b[0m\u001b[0;34m)\u001b[0m\u001b[0;34m\u001b[0m\u001b[0;34m\u001b[0m\u001b[0m\n\u001b[0m\u001b[1;32m      5\u001b[0m \u001b[0mprint\u001b[0m\u001b[0;34m(\u001b[0m\u001b[0mobj\u001b[0m\u001b[0;34m.\u001b[0m\u001b[0mstop\u001b[0m\u001b[0;34m)\u001b[0m\u001b[0;34m\u001b[0m\u001b[0;34m\u001b[0m\u001b[0m\n\u001b[1;32m      6\u001b[0m \u001b[0mprint\u001b[0m\u001b[0;34m(\u001b[0m\u001b[0mobj\u001b[0m\u001b[0;34m.\u001b[0m\u001b[0mstep\u001b[0m\u001b[0;34m)\u001b[0m\u001b[0;34m\u001b[0m\u001b[0;34m\u001b[0m\u001b[0m\n",
            "\u001b[0;31mAttributeError\u001b[0m: 'AnalysisBase' object has no attribute 'start'"
          ]
        }
      ]
    },
    {
      "cell_type": "code",
      "metadata": {
        "id": "KNTL6DD2pAgN",
        "colab_type": "code",
        "colab": {}
      },
      "source": [
        "!git diff"
      ],
      "execution_count": 0,
      "outputs": []
    },
    {
      "cell_type": "code",
      "metadata": {
        "id": "3jZu_CexHFoo",
        "colab_type": "code",
        "outputId": "406c090d-23eb-4462-9f1a-24af6f34cd75",
        "colab": {
          "base_uri": "https://localhost:8080/",
          "height": 87
        }
      },
      "source": [
        "#issue 2206\n",
        "from MDAnalysis.analysis.lineardensity import LinearDensity\n",
        "from MDAnalysis.tests.datafiles import PSF_TRICLINIC, DCD_TRICLINIC\n",
        "\n",
        "u = mda.Universe(PSF_TRICLINIC, DCD_TRICLINIC)\n",
        "ldens = LinearDensity(u.atoms, verbose=True)\n",
        "\n",
        "ldens.run(start=0, stop=10)\n",
        "print(ldens.start, ldens.stop)\n",
        "\n",
        "ldens.run(start=0, stop=5, verbose=False)\n",
        "print(ldens.start, ldens.stop)"
      ],
      "execution_count": 0,
      "outputs": [
        {
          "output_type": "stream",
          "text": [
            "Step    10/10 [100.0%]\n",
            "Step    10/10 [100.0%]\n"
          ],
          "name": "stderr"
        },
        {
          "output_type": "stream",
          "text": [
            "0 10\n",
            "0 10\n"
          ],
          "name": "stdout"
        }
      ]
    },
    {
      "cell_type": "code",
      "metadata": {
        "id": "PXtaw1frFUb3",
        "colab_type": "code",
        "colab": {
          "base_uri": "https://localhost:8080/",
          "height": 34
        },
        "outputId": "bb46230f-2f76-4ada-be2e-fc7067c4e0cf"
      },
      "source": [
        "!git pull"
      ],
      "execution_count": 13,
      "outputs": [
        {
          "output_type": "stream",
          "text": [
            "Already up to date.\n"
          ],
          "name": "stdout"
        }
      ]
    },
    {
      "cell_type": "code",
      "metadata": {
        "id": "50fqA8wC9HCO",
        "colab_type": "code",
        "colab": {
          "base_uri": "https://localhost:8080/",
          "height": 125
        },
        "outputId": "a8f3e84d-1096-4c41-9e72-bcaa9c131503"
      },
      "source": [
        "!git fetch origin\n",
        "!git checkout -b yourbranch origin/yourbranch\n",
        "!git merge master"
      ],
      "execution_count": 15,
      "outputs": [
        {
          "output_type": "stream",
          "text": [
            "fatal: 'origin/yourbranch' is not a commit and a branch 'yourbranch' cannot be created from it\n",
            "merge: master - not something we can merge\n",
            "\n",
            "Did you mean this?\n",
            "\ttdata-0-7-4\n"
          ],
          "name": "stdout"
        }
      ]
    },
    {
      "cell_type": "code",
      "metadata": {
        "id": "fD_fWXaJ997B",
        "colab_type": "code",
        "colab": {}
      },
      "source": [
        ""
      ],
      "execution_count": 0,
      "outputs": []
    }
  ]
}